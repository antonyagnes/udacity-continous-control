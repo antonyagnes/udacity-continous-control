{
 "cells": [
  {
   "cell_type": "markdown",
   "metadata": {},
   "source": [
    "# Continuous Control\n",
    "\n",
    "---\n",
    "\n",
    "In this notebook, you will learn how to use the Unity ML-Agents environment for the second project of the [Deep Reinforcement Learning Nanodegree](https://www.udacity.com/course/deep-reinforcement-learning-nanodegree--nd893) program.\n",
    "\n",
    "### 1. Start the Environment\n",
    "\n",
    "We begin by importing the necessary packages.  If the code cell below returns an error, please revisit the project instructions to double-check that you have installed [Unity ML-Agents](https://github.com/Unity-Technologies/ml-agents/blob/master/docs/Installation.md) and [NumPy](http://www.numpy.org/)."
   ]
  },
  {
   "cell_type": "code",
   "execution_count": 1,
   "metadata": {
    "ExecuteTime": {
     "end_time": "2021-05-04T15:01:07.792249Z",
     "start_time": "2021-05-04T15:01:06.954545Z"
    }
   },
   "outputs": [],
   "source": [
    "import torch\n",
    "import numpy as np\n",
    "from dppg_agent import Agent \n",
    "from collections import deque\n",
    "import matplotlib.pyplot as plt\n",
    "from unityagents import UnityEnvironment"
   ]
  },
  {
   "cell_type": "markdown",
   "metadata": {},
   "source": [
    "Next, we will start the environment!  **_Before running the code cell below_**, change the `file_name` parameter to match the location of the Unity environment that you downloaded.\n",
    "\n",
    "- **Mac**: `\"path/to/Reacher.app\"`\n",
    "- **Windows** (x86): `\"path/to/Reacher_Windows_x86/Reacher.exe\"`\n",
    "- **Windows** (x86_64): `\"path/to/Reacher_Windows_x86_64/Reacher.exe\"`\n",
    "- **Linux** (x86): `\"path/to/Reacher_Linux/Reacher.x86\"`\n",
    "- **Linux** (x86_64): `\"path/to/Reacher_Linux/Reacher.x86_64\"`\n",
    "- **Linux** (x86, headless): `\"path/to/Reacher_Linux_NoVis/Reacher.x86\"`\n",
    "- **Linux** (x86_64, headless): `\"path/to/Reacher_Linux_NoVis/Reacher.x86_64\"`\n",
    "\n",
    "For instance, if you are using a Mac, then you downloaded `Reacher.app`.  If this file is in the same folder as the notebook, then the line below should appear as follows:\n",
    "```\n",
    "env = UnityEnvironment(file_name=\"Reacher.app\")\n",
    "```"
   ]
  },
  {
   "cell_type": "code",
   "execution_count": 2,
   "metadata": {
    "ExecuteTime": {
     "end_time": "2021-05-04T15:01:11.565240Z",
     "start_time": "2021-05-04T15:01:07.884426Z"
    }
   },
   "outputs": [
    {
     "name": "stderr",
     "output_type": "stream",
     "text": [
      "INFO:unityagents:\n",
      "'Academy' started successfully!\n",
      "Unity Academy name: Academy\n",
      "        Number of Brains: 1\n",
      "        Number of External Brains : 1\n",
      "        Lesson number : 0\n",
      "        Reset Parameters :\n",
      "\t\tgoal_speed -> 1.0\n",
      "\t\tgoal_size -> 5.0\n",
      "Unity brain name: ReacherBrain\n",
      "        Number of Visual Observations (per agent): 0\n",
      "        Vector Observation space type: continuous\n",
      "        Vector Observation space size (per agent): 33\n",
      "        Number of stacked Vector Observation: 1\n",
      "        Vector Action space type: continuous\n",
      "        Vector Action space size (per agent): 4\n",
      "        Vector Action descriptions: , , , \n"
     ]
    }
   ],
   "source": [
    "env = UnityEnvironment(file_name='Reacher_Windows_x86_64/Reacher.exe')"
   ]
  },
  {
   "cell_type": "markdown",
   "metadata": {},
   "source": [
    "Environments contain **_brains_** which are responsible for deciding the actions of their associated agents. Here we check for the first brain available, and set it as the default brain we will be controlling from Python."
   ]
  },
  {
   "cell_type": "code",
   "execution_count": 3,
   "metadata": {
    "ExecuteTime": {
     "end_time": "2021-05-04T15:01:11.581243Z",
     "start_time": "2021-05-04T15:01:11.567240Z"
    }
   },
   "outputs": [],
   "source": [
    "# get the default brain\n",
    "brain_name = env.brain_names[0]\n",
    "brain = env.brains[brain_name]"
   ]
  },
  {
   "cell_type": "markdown",
   "metadata": {},
   "source": [
    "### 2. Examine the State and Action Spaces\n",
    "\n",
    "In this environment, a double-jointed arm can move to target locations. A reward of `+0.1` is provided for each step that the agent's hand is in the goal location. Thus, the goal of your agent is to maintain its position at the target location for as many time steps as possible.\n",
    "\n",
    "The observation space consists of `33` variables corresponding to position, rotation, velocity, and angular velocities of the arm.  Each action is a vector with four numbers, corresponding to torque applicable to two joints.  Every entry in the action vector must be a number between `-1` and `1`.\n",
    "\n",
    "Run the code cell below to print some information about the environment."
   ]
  },
  {
   "cell_type": "code",
   "execution_count": 4,
   "metadata": {
    "ExecuteTime": {
     "end_time": "2021-05-04T15:01:12.159488Z",
     "start_time": "2021-05-04T15:01:11.582243Z"
    }
   },
   "outputs": [
    {
     "name": "stdout",
     "output_type": "stream",
     "text": [
      "Number of agents: 20\n",
      "Size of each action: 4\n",
      "There are 20 agents. Each observes a state with length: 33\n",
      "The state for the first agent looks like: [ 0.00000000e+00 -4.00000000e+00  0.00000000e+00  1.00000000e+00\n",
      " -0.00000000e+00 -0.00000000e+00 -4.37113883e-08  0.00000000e+00\n",
      "  0.00000000e+00  0.00000000e+00  0.00000000e+00  0.00000000e+00\n",
      "  0.00000000e+00  0.00000000e+00 -1.00000000e+01  0.00000000e+00\n",
      "  1.00000000e+00 -0.00000000e+00 -0.00000000e+00 -4.37113883e-08\n",
      "  0.00000000e+00  0.00000000e+00  0.00000000e+00  0.00000000e+00\n",
      "  0.00000000e+00  0.00000000e+00  5.75471878e+00 -1.00000000e+00\n",
      "  5.55726624e+00  0.00000000e+00  1.00000000e+00  0.00000000e+00\n",
      " -1.68164849e-01]\n"
     ]
    }
   ],
   "source": [
    "# reset the environment\n",
    "env_info = env.reset(train_mode=True)[brain_name]\n",
    "\n",
    "# number of agents\n",
    "num_agents = len(env_info.agents)\n",
    "print('Number of agents:', num_agents)\n",
    "\n",
    "# size of each action\n",
    "action_size = brain.vector_action_space_size\n",
    "print('Size of each action:', action_size)\n",
    "\n",
    "# examine the state space \n",
    "states = env_info.vector_observations\n",
    "state_size = states.shape[1]\n",
    "print('There are {} agents. Each observes a state with length: {}'.format(states.shape[0], state_size))\n",
    "print('The state for the first agent looks like:', states[0])"
   ]
  },
  {
   "cell_type": "markdown",
   "metadata": {},
   "source": [
    "### 3. Take Random Actions in the Environment\n",
    "\n",
    "In the next code cell, you will learn how to use the Python API to control the agent and receive feedback from the environment.\n",
    "\n",
    "Once this cell is executed, you will watch the agent's performance, if it selects an action at random with each time step.  A window should pop up that allows you to observe the agent, as it moves through the environment.  \n",
    "\n",
    "Of course, as part of the project, you'll have to change the code so that the agent is able to use its experience to gradually choose better actions when interacting with the environment!"
   ]
  },
  {
   "cell_type": "code",
   "execution_count": 5,
   "metadata": {
    "ExecuteTime": {
     "end_time": "2021-05-04T15:02:30.678442Z",
     "start_time": "2021-05-04T15:01:12.160490Z"
    }
   },
   "outputs": [
    {
     "name": "stdout",
     "output_type": "stream",
     "text": [
      "Total score (averaged over agents) this episode: 0.1544999965466559\n"
     ]
    }
   ],
   "source": [
    "env_info = env.reset(train_mode=False)[brain_name]     # reset the environment    \n",
    "states = env_info.vector_observations                  # get the current state (for each agent)\n",
    "scores = np.zeros(num_agents)                          # initialize the score (for each agent)\n",
    "while True:\n",
    "    actions = np.random.randn(num_agents, action_size) # select an action (for each agent)\n",
    "    actions = np.clip(actions, -1, 1)                  # all actions between -1 and 1\n",
    "    env_info = env.step(actions)[brain_name]           # send all actions to tne environment\n",
    "    next_states = env_info.vector_observations         # get next state (for each agent)\n",
    "    rewards = env_info.rewards                         # get reward (for each agent)\n",
    "    dones = env_info.local_done                        # see if episode finished\n",
    "    scores += env_info.rewards                         # update the score (for each agent)\n",
    "    states = next_states                               # roll over states to next time step\n",
    "    if np.any(dones):                                  # exit loop if episode finished\n",
    "        break\n",
    "print('Total score (averaged over agents) this episode: {}'.format(np.mean(scores)))"
   ]
  },
  {
   "cell_type": "markdown",
   "metadata": {},
   "source": [
    "### 4. It's Your Turn!\n",
    "\n",
    "Now it's your turn to train your own agent to solve the environment!  When training the environment, set `train_mode=True`, so that the line for resetting the environment looks like the following:\n",
    "```python\n",
    "env_info = env.reset(train_mode=True)[brain_name]\n",
    "```"
   ]
  },
  {
   "cell_type": "code",
   "execution_count": 7,
   "metadata": {
    "ExecuteTime": {
     "end_time": "2021-05-04T15:02:30.726453Z",
     "start_time": "2021-05-04T15:02:30.696459Z"
    }
   },
   "outputs": [],
   "source": [
    "def ddpg(n_episodes=400, max_t = 1000, deque_size=100):\n",
    "\n",
    "    scores_deque = deque(maxlen=deque_size) \n",
    "    scores = []     \n",
    "    \n",
    "    for i_episode in range(1, n_episodes+1):\n",
    "        \n",
    "        env_info = env.reset(train_mode=True)[brain_name]\n",
    "        states = env_info.vector_observations\n",
    "        \n",
    "        agent.reset() \n",
    "        episode_scores = np.zeros(num_agents) \n",
    "\n",
    "        for t in range(max_t):\n",
    "            actions = agent.act(states)\n",
    "            env_info = env.step(actions)[brain_name]\n",
    "            next_states = env_info.vector_observations\n",
    "            rewards = env_info.rewards\n",
    "            dones = env_info.local_done\n",
    "\n",
    "            agent.step(states=states, actions=actions, rewards=rewards, next_states=next_states, dones=dones)\n",
    "            episode_scores += np.array(rewards)\n",
    "            states = next_states\n",
    "            if np.any(dones):\n",
    "                break\n",
    "\n",
    "        scores_deque.append(np.mean(episode_scores))\n",
    "        scores.append(np.mean(episode_scores))\n",
    "        average_score = np.mean(scores_deque)\n",
    "\n",
    "        # if i_episode % 10 == 0:\n",
    "        print('\\rEpisode: {}\\tAverage Score: {}'.format(i_episode, average_score))\n",
    "        torch.save(agent.actor_local.state_dict(), 'checkpoint_actor.pth')\n",
    "        torch.save(agent.critic_local.state_dict(), 'checkpoint_critic.pth')\n",
    "\n",
    "    return scores"
   ]
  },
  {
   "cell_type": "code",
   "execution_count": 8,
   "metadata": {
    "ExecuteTime": {
     "end_time": "2021-05-04T15:02:30.742456Z",
     "start_time": "2021-05-04T15:02:30.727428Z"
    }
   },
   "outputs": [],
   "source": [
    "agent = Agent(state_size=state_size, \n",
    "              action_size=action_size, \n",
    "              n_agents=num_agents, \n",
    "              seed=42)"
   ]
  },
  {
   "cell_type": "code",
   "execution_count": 9,
   "metadata": {
    "ExecuteTime": {
     "end_time": "2021-05-04T22:23:28.654516Z",
     "start_time": "2021-05-04T15:02:30.744429Z"
    },
    "scrolled": true
   },
   "outputs": [
    {
     "name": "stderr",
     "output_type": "stream",
     "text": [
      "C:\\tools\\Anaconda3\\envs\\drlnd\\lib\\site-packages\\torch\\nn\\functional.py:1698: UserWarning: nn.functional.tanh is deprecated. Use torch.tanh instead.\n",
      "  warnings.warn(\"nn.functional.tanh is deprecated. Use torch.tanh instead.\")\n"
     ]
    },
    {
     "name": "stdout",
     "output_type": "stream",
     "text": [
      "Episode: 1\tAverage Score: 0.22899999488145112\n",
      "Episode: 2\tAverage Score: 0.1947499956469983\n",
      "Episode: 3\tAverage Score: 0.13916666355604926\n",
      "Episode: 4\tAverage Score: 0.11024999753572047\n",
      "Episode: 5\tAverage Score: 0.09139999795705081\n",
      "Episode: 6\tAverage Score: 0.09474999788217248\n",
      "Episode: 7\tAverage Score: 0.10585714049105134\n",
      "Episode: 8\tAverage Score: 0.12249999726191163\n",
      "Episode: 9\tAverage Score: 0.11933333066602549\n",
      "Episode: 10\tAverage Score: 0.13294999702833593\n",
      "Episode: 11\tAverage Score: 0.1359999969601631\n",
      "Episode: 12\tAverage Score: 0.16620832961828758\n",
      "Episode: 13\tAverage Score: 0.19926922631521635\n",
      "Episode: 14\tAverage Score: 0.23271428051271606\n",
      "Episode: 15\tAverage Score: 0.2730999938957393\n",
      "Episode: 16\tAverage Score: 0.3143124929745682\n",
      "Episode: 17\tAverage Score: 0.34714705106418803\n",
      "Episode: 18\tAverage Score: 0.37311110277142795\n",
      "Episode: 19\tAverage Score: 0.4038420962365835\n",
      "Episode: 20\tAverage Score: 0.45189998989924796\n",
      "Episode: 21\tAverage Score: 0.4814047511445271\n",
      "Episode: 22\tAverage Score: 0.5197727156549016\n",
      "Episode: 23\tAverage Score: 0.5494565094578202\n",
      "Episode: 24\tAverage Score: 0.5752916538078959\n",
      "Episode: 25\tAverage Score: 0.6097999863699078\n",
      "Episode: 26\tAverage Score: 0.6448653702015201\n",
      "Episode: 27\tAverage Score: 0.6913333178808292\n",
      "Episode: 28\tAverage Score: 0.7320178407809831\n",
      "Episode: 29\tAverage Score: 0.7828792928461114\n",
      "Episode: 30\tAverage Score: 0.8313666480841736\n",
      "Episode: 31\tAverage Score: 0.8872419156524682\n",
      "Episode: 32\tAverage Score: 0.9559062286338303\n",
      "Episode: 33\tAverage Score: 1.023636340756308\n",
      "Episode: 34\tAverage Score: 1.092867622631328\n",
      "Episode: 35\tAverage Score: 1.1632428311423533\n",
      "Episode: 36\tAverage Score: 1.2259583059310293\n",
      "Episode: 37\tAverage Score: 1.2852567280290297\n",
      "Episode: 38\tAverage Score: 1.3552236539189166\n",
      "Episode: 39\tAverage Score: 1.4141794555701124\n",
      "Episode: 40\tAverage Score: 1.485199966803193\n",
      "Episode: 41\tAverage Score: 1.5477804532092883\n",
      "Episode: 42\tAverage Score: 1.6267023445927493\n",
      "Episode: 43\tAverage Score: 1.6787325206169381\n",
      "Episode: 44\tAverage Score: 1.7534204153534532\n",
      "Episode: 45\tAverage Score: 1.817599959373474\n",
      "Episode: 46\tAverage Score: 1.8796630014645177\n",
      "Episode: 47\tAverage Score: 1.934170169533884\n",
      "Episode: 48\tAverage Score: 2.0056562051700895\n",
      "Episode: 49\tAverage Score: 2.0771326066336915\n",
      "Episode: 50\tAverage Score: 2.151929951900616\n",
      "Episode: 51\tAverage Score: 2.230725440335478\n",
      "Episode: 52\tAverage Score: 2.288961487299261\n",
      "Episode: 53\tAverage Score: 2.3661225886224715\n",
      "Episode: 54\tAverage Score: 2.451527722981862\n",
      "Episode: 55\tAverage Score: 2.5329544888385995\n",
      "Episode: 56\tAverage Score: 2.6099642273770374\n",
      "Episode: 57\tAverage Score: 2.6841490628116085\n",
      "Episode: 58\tAverage Score: 2.7488361454552734\n",
      "Episode: 59\tAverage Score: 2.8361355298277675\n",
      "Episode: 60\tAverage Score: 2.906591601699279\n",
      "Episode: 61\tAverage Score: 2.9991638673896905\n",
      "Episode: 62\tAverage Score: 3.072112834558731\n",
      "Episode: 63\tAverage Score: 3.1571269135596958\n",
      "Episode: 64\tAverage Score: 3.2566014897092828\n",
      "Episode: 65\tAverage Score: 3.335884540821784\n",
      "Episode: 66\tAverage Score: 3.414863560035486\n",
      "Episode: 67\tAverage Score: 3.4920969368709223\n",
      "Episode: 68\tAverage Score: 3.569771979032906\n",
      "Episode: 69\tAverage Score: 3.644304266369537\n",
      "Episode: 70\tAverage Score: 3.7223356310850275\n",
      "Episode: 71\tAverage Score: 3.8059647036624518\n",
      "Episode: 72\tAverage Score: 3.8856804687038267\n",
      "Episode: 73\tAverage Score: 3.9693081304571294\n",
      "Episode: 74\tAverage Score: 4.0424796393732665\n",
      "Episode: 75\tAverage Score: 4.145439907342195\n",
      "Episode: 76\tAverage Score: 4.242940694636567\n",
      "Episode: 77\tAverage Score: 4.339707695207764\n",
      "Episode: 78\tAverage Score: 4.441006310992181\n",
      "Episode: 79\tAverage Score: 4.548841670477362\n",
      "Episode: 80\tAverage Score: 4.644043646197533\n",
      "Episode: 81\tAverage Score: 4.744722116169417\n",
      "Episode: 82\tAverage Score: 4.8314694042033635\n",
      "Episode: 83\tAverage Score: 4.9217348297496875\n",
      "Episode: 84\tAverage Score: 5.022523697261654\n",
      "Episode: 85\tAverage Score: 5.1225940031481585\n",
      "Episode: 86\tAverage Score: 5.224871976238264\n",
      "Episode: 87\tAverage Score: 5.33766654736052\n",
      "Episode: 88\tAverage Score: 5.443647605597719\n",
      "Episode: 89\tAverage Score: 5.558286392616548\n",
      "Episode: 90\tAverage Score: 5.670688762139115\n",
      "Episode: 91\tAverage Score: 5.76562075024921\n",
      "Episode: 92\tAverage Score: 5.868385738396571\n",
      "Episode: 93\tAverage Score: 5.972688038543027\n",
      "Episode: 94\tAverage Score: 6.0774892258596545\n",
      "Episode: 95\tAverage Score: 6.181757756563786\n",
      "Episode: 96\tAverage Score: 6.287145692804672\n",
      "Episode: 97\tAverage Score: 6.375664805946391\n",
      "Episode: 98\tAverage Score: 6.476688630744929\n",
      "Episode: 99\tAverage Score: 6.589863489068707\n",
      "Episode: 100\tAverage Score: 6.68490485058073\n",
      "Episode: 101\tAverage Score: 6.8530598468221715\n",
      "Episode: 102\tAverage Score: 7.0464248425001275\n",
      "Episode: 103\tAverage Score: 7.220984838598406\n",
      "Episode: 104\tAverage Score: 7.392734834759495\n",
      "Episode: 105\tAverage Score: 7.5784898306075466\n",
      "Episode: 106\tAverage Score: 7.763729826467112\n",
      "Episode: 107\tAverage Score: 7.922849822910503\n",
      "Episode: 108\tAverage Score: 8.103014818883501\n",
      "Episode: 109\tAverage Score: 8.281669814890252\n",
      "Episode: 110\tAverage Score: 8.46649481075909\n",
      "Episode: 111\tAverage Score: 8.649334806672298\n",
      "Episode: 112\tAverage Score: 8.847554802241735\n",
      "Episode: 113\tAverage Score: 9.029109798183665\n",
      "Episode: 114\tAverage Score: 9.199834794367664\n",
      "Episode: 115\tAverage Score: 9.393139790046959\n",
      "Episode: 116\tAverage Score: 9.58279478580784\n",
      "Episode: 117\tAverage Score: 9.771044781600125\n",
      "Episode: 118\tAverage Score: 9.979129776949064\n",
      "Episode: 119\tAverage Score: 10.175169772567228\n",
      "Episode: 120\tAverage Score: 10.369439768224957\n",
      "Episode: 121\tAverage Score: 10.564364763868044\n",
      "Episode: 122\tAverage Score: 10.761819759454578\n",
      "Episode: 123\tAverage Score: 10.963769754940644\n",
      "Episode: 124\tAverage Score: 11.162634750495664\n",
      "Episode: 125\tAverage Score: 11.364439745984974\n",
      "Episode: 126\tAverage Score: 11.586289741026237\n",
      "Episode: 127\tAverage Score: 11.79785473629739\n",
      "Episode: 128\tAverage Score: 12.012609731497243\n",
      "Episode: 129\tAverage Score: 12.224179726768284\n",
      "Episode: 130\tAverage Score: 12.460574721484447\n",
      "Episode: 131\tAverage Score: 12.671399716772141\n",
      "Episode: 132\tAverage Score: 12.889349711900577\n",
      "Episode: 133\tAverage Score: 13.102494707136415\n",
      "Episode: 134\tAverage Score: 13.321979702230543\n",
      "Episode: 135\tAverage Score: 13.551634697097354\n",
      "Episode: 136\tAverage Score: 13.765819692309947\n",
      "Episode: 137\tAverage Score: 13.994169687205927\n",
      "Episode: 138\tAverage Score: 14.204489682504908\n",
      "Episode: 139\tAverage Score: 14.448234677056785\n",
      "Episode: 140\tAverage Score: 14.67314967202954\n",
      "Episode: 141\tAverage Score: 14.873984667540528\n",
      "Episode: 142\tAverage Score: 15.092189662663266\n",
      "Episode: 143\tAverage Score: 15.32475465746503\n",
      "Episode: 144\tAverage Score: 15.553729652347043\n",
      "Episode: 145\tAverage Score: 15.77630964737199\n",
      "Episode: 146\tAverage Score: 15.996374642453157\n",
      "Episode: 147\tAverage Score: 16.228919637255373\n",
      "Episode: 148\tAverage Score: 16.46458963198774\n",
      "Episode: 149\tAverage Score: 16.70283962666243\n",
      "Episode: 150\tAverage Score: 16.926719621658325\n",
      "Episode: 151\tAverage Score: 17.163524616365322\n",
      "Episode: 152\tAverage Score: 17.41665961070731\n",
      "Episode: 153\tAverage Score: 17.66618460513\n",
      "Episode: 154\tAverage Score: 17.916594599532893\n",
      "Episode: 155\tAverage Score: 18.15118959428929\n",
      "Episode: 156\tAverage Score: 18.385004589063115\n",
      "Episode: 157\tAverage Score: 18.6187545838384\n",
      "Episode: 158\tAverage Score: 18.856809578517456\n",
      "Episode: 159\tAverage Score: 19.0870445733713\n",
      "Episode: 160\tAverage Score: 19.331579567905514\n",
      "Episode: 161\tAverage Score: 19.548019563067704\n",
      "Episode: 162\tAverage Score: 19.78138955785148\n",
      "Episode: 163\tAverage Score: 20.023274552444928\n",
      "Episode: 164\tAverage Score: 20.266474547008983\n",
      "Episode: 165\tAverage Score: 20.491499541979284\n",
      "Episode: 166\tAverage Score: 20.735969536514954\n",
      "Episode: 167\tAverage Score: 20.979474531072192\n",
      "Episode: 168\tAverage Score: 21.219074525716714\n",
      "Episode: 169\tAverage Score: 21.465659520205108\n",
      "Episode: 170\tAverage Score: 21.704169514873996\n",
      "Episode: 171\tAverage Score: 21.955014509267176\n",
      "Episode: 172\tAverage Score: 22.200264503785405\n",
      "Episode: 173\tAverage Score: 22.442879498362544\n",
      "Episode: 174\tAverage Score: 22.697899492662394\n",
      "Episode: 175\tAverage Score: 22.929684487481598\n",
      "Episode: 176\tAverage Score: 23.154999482445415\n",
      "Episode: 177\tAverage Score: 23.38852447722573\n",
      "Episode: 178\tAverage Score: 23.62341447197553\n"
     ]
    },
    {
     "name": "stdout",
     "output_type": "stream",
     "text": [
      "Episode: 179\tAverage Score: 23.84298446706776\n",
      "Episode: 180\tAverage Score: 24.068194462033922\n",
      "Episode: 181\tAverage Score: 24.297554456907324\n",
      "Episode: 182\tAverage Score: 24.52974945171736\n",
      "Episode: 183\tAverage Score: 24.770479446336626\n",
      "Episode: 184\tAverage Score: 24.986014441519046\n",
      "Episode: 185\tAverage Score: 25.216869436359037\n",
      "Episode: 186\tAverage Score: 25.44542443125044\n",
      "Episode: 187\tAverage Score: 25.654354426580486\n",
      "Episode: 188\tAverage Score: 25.86263942192495\n",
      "Episode: 189\tAverage Score: 26.05908941753395\n",
      "Episode: 190\tAverage Score: 26.249504413277837\n",
      "Episode: 191\tAverage Score: 26.454189408702778\n",
      "Episode: 192\tAverage Score: 26.651419404294337\n",
      "Episode: 193\tAverage Score: 26.85272939979471\n",
      "Episode: 194\tAverage Score: 27.066979395005852\n",
      "Episode: 195\tAverage Score: 27.26716439053137\n",
      "Episode: 196\tAverage Score: 27.47821438581404\n",
      "Episode: 197\tAverage Score: 27.695389380959796\n",
      "Episode: 198\tAverage Score: 27.90231437633466\n",
      "Episode: 199\tAverage Score: 28.09739437197428\n",
      "Episode: 200\tAverage Score: 28.304449367346248\n",
      "Episode: 201\tAverage Score: 28.500044362974354\n",
      "Episode: 202\tAverage Score: 28.669839359179146\n",
      "Episode: 203\tAverage Score: 28.856719355002053\n",
      "Episode: 204\tAverage Score: 29.04389935081825\n",
      "Episode: 205\tAverage Score: 29.220084346880206\n",
      "Episode: 206\tAverage Score: 29.405809342728926\n",
      "Episode: 207\tAverage Score: 29.603239338316026\n",
      "Episode: 208\tAverage Score: 29.776749334437774\n",
      "Episode: 209\tAverage Score: 29.95196433052141\n",
      "Episode: 210\tAverage Score: 30.12253932670876\n",
      "Episode: 211\tAverage Score: 30.284459323089568\n",
      "Episode: 212\tAverage Score: 30.438624319643715\n",
      "Episode: 213\tAverage Score: 30.611029315790162\n",
      "Episode: 214\tAverage Score: 30.79835931160301\n",
      "Episode: 215\tAverage Score: 30.94195430839341\n",
      "Episode: 216\tAverage Score: 31.090989305062223\n",
      "Episode: 217\tAverage Score: 31.2508793014884\n",
      "Episode: 218\tAverage Score: 31.399779298160226\n",
      "Episode: 219\tAverage Score: 31.548074294845573\n",
      "Episode: 220\tAverage Score: 31.690734291656874\n",
      "Episode: 221\tAverage Score: 31.839454288332718\n",
      "Episode: 222\tAverage Score: 31.977364285250193\n",
      "Episode: 223\tAverage Score: 32.108564282317644\n",
      "Episode: 224\tAverage Score: 32.22643427968305\n",
      "Episode: 225\tAverage Score: 32.34421927705035\n",
      "Episode: 226\tAverage Score: 32.45104427466262\n",
      "Episode: 227\tAverage Score: 32.55083927243203\n",
      "Episode: 228\tAverage Score: 32.64309427036997\n",
      "Episode: 229\tAverage Score: 32.730144268424255\n",
      "Episode: 230\tAverage Score: 32.81044426662941\n",
      "Episode: 231\tAverage Score: 32.91187926436216\n",
      "Episode: 232\tAverage Score: 32.99186926257425\n",
      "Episode: 233\tAverage Score: 33.08680926045217\n",
      "Episode: 234\tAverage Score: 33.17701425843593\n",
      "Episode: 235\tAverage Score: 33.24657925688103\n",
      "Episode: 236\tAverage Score: 33.34390425470564\n",
      "Episode: 237\tAverage Score: 33.40793925327435\n",
      "Episode: 238\tAverage Score: 33.48252925160713\n",
      "Episode: 239\tAverage Score: 33.543299250248815\n",
      "Episode: 240\tAverage Score: 33.60923424877505\n",
      "Episode: 241\tAverage Score: 33.71338924644701\n",
      "Episode: 242\tAverage Score: 33.79419424464088\n",
      "Episode: 243\tAverage Score: 33.87494424283597\n",
      "Episode: 244\tAverage Score: 33.955924241025926\n",
      "Episode: 245\tAverage Score: 34.03721423920895\n",
      "Episode: 246\tAverage Score: 34.13181923709437\n",
      "Episode: 247\tAverage Score: 34.20227423551958\n",
      "Episode: 248\tAverage Score: 34.265584234104494\n",
      "Episode: 249\tAverage Score: 34.32840923270024\n",
      "Episode: 250\tAverage Score: 34.40472423099447\n",
      "Episode: 251\tAverage Score: 34.45890422978345\n",
      "Episode: 252\tAverage Score: 34.51279922857881\n",
      "Episode: 253\tAverage Score: 34.554189227653666\n",
      "Episode: 254\tAverage Score: 34.57907922709734\n",
      "Episode: 255\tAverage Score: 34.63047422594857\n",
      "Episode: 256\tAverage Score: 34.687369224676864\n",
      "Episode: 257\tAverage Score: 34.736144223586656\n",
      "Episode: 258\tAverage Score: 34.791974222338766\n",
      "Episode: 259\tAverage Score: 34.842994221198374\n",
      "Episode: 260\tAverage Score: 34.871849220553415\n",
      "Episode: 261\tAverage Score: 34.92186421943549\n",
      "Episode: 262\tAverage Score: 34.96680921843089\n",
      "Episode: 263\tAverage Score: 34.99853921772167\n",
      "Episode: 264\tAverage Score: 35.01953921725228\n",
      "Episode: 265\tAverage Score: 35.065084216234276\n",
      "Episode: 266\tAverage Score: 35.09753921550885\n",
      "Episode: 267\tAverage Score: 35.12756421483773\n",
      "Episode: 268\tAverage Score: 35.15010921433381\n",
      "Episode: 269\tAverage Score: 35.17471421378385\n",
      "Episode: 270\tAverage Score: 35.19877421324607\n",
      "Episode: 271\tAverage Score: 35.20249421316292\n",
      "Episode: 272\tAverage Score: 35.216449212851\n",
      "Episode: 273\tAverage Score: 35.23462421244476\n",
      "Episode: 274\tAverage Score: 35.23570921242051\n",
      "Episode: 275\tAverage Score: 35.24062921231054\n",
      "Episode: 276\tAverage Score: 35.24244921226986\n",
      "Episode: 277\tAverage Score: 35.235074212434704\n",
      "Episode: 278\tAverage Score: 35.220194212767304\n",
      "Episode: 279\tAverage Score: 35.21791921281815\n",
      "Episode: 280\tAverage Score: 35.21634421285336\n",
      "Episode: 281\tAverage Score: 35.201444213186385\n",
      "Episode: 282\tAverage Score: 35.200294213212096\n",
      "Episode: 283\tAverage Score: 35.19967421322595\n",
      "Episode: 284\tAverage Score: 35.204804213111295\n",
      "Episode: 285\tAverage Score: 35.187899213489146\n",
      "Episode: 286\tAverage Score: 35.17589421375747\n",
      "Episode: 287\tAverage Score: 35.15867421414237\n",
      "Episode: 288\tAverage Score: 35.16167921407521\n",
      "Episode: 289\tAverage Score: 35.152824214273124\n",
      "Episode: 290\tAverage Score: 35.157239214174446\n",
      "Episode: 291\tAverage Score: 35.160254214107056\n",
      "Episode: 292\tAverage Score: 35.16518921399675\n",
      "Episode: 293\tAverage Score: 35.163934214024806\n",
      "Episode: 294\tAverage Score: 35.14975921434164\n",
      "Episode: 295\tAverage Score: 35.12997921478376\n",
      "Episode: 296\tAverage Score: 35.104634215350266\n",
      "Episode: 297\tAverage Score: 35.092269215626644\n",
      "Episode: 298\tAverage Score: 35.06295421628188\n",
      "Episode: 299\tAverage Score: 35.04817921661213\n",
      "Episode: 300\tAverage Score: 35.024234217147345\n",
      "Episode: 301\tAverage Score: 35.00423421759438\n",
      "Episode: 302\tAverage Score: 34.983584218055945\n",
      "Episode: 303\tAverage Score: 34.95695421865117\n",
      "Episode: 304\tAverage Score: 34.93618421911542\n",
      "Episode: 305\tAverage Score: 34.91711921954155\n",
      "Episode: 306\tAverage Score: 34.89345922007039\n",
      "Episode: 307\tAverage Score: 34.88146922033839\n",
      "Episode: 308\tAverage Score: 34.88144922033884\n",
      "Episode: 309\tAverage Score: 34.86854922062717\n",
      "Episode: 310\tAverage Score: 34.86137922078743\n",
      "Episode: 311\tAverage Score: 34.86534422069881\n",
      "Episode: 312\tAverage Score: 34.84011922126263\n",
      "Episode: 313\tAverage Score: 34.80973422194179\n",
      "Episode: 314\tAverage Score: 34.77812922264822\n",
      "Episode: 315\tAverage Score: 34.76179422301333\n",
      "Episode: 316\tAverage Score: 34.738244223539716\n",
      "Episode: 317\tAverage Score: 34.72304922387935\n",
      "Episode: 318\tAverage Score: 34.69342922454141\n",
      "Episode: 319\tAverage Score: 34.673629224983976\n",
      "Episode: 320\tAverage Score: 34.65407922542095\n",
      "Episode: 321\tAverage Score: 34.62855422599147\n",
      "Episode: 322\tAverage Score: 34.60420422653574\n",
      "Episode: 323\tAverage Score: 34.59563422672729\n",
      "Episode: 324\tAverage Score: 34.60965422641392\n",
      "Episode: 325\tAverage Score: 34.61970422618929\n",
      "Episode: 326\tAverage Score: 34.620609226169066\n",
      "Episode: 327\tAverage Score: 34.62960422596801\n",
      "Episode: 328\tAverage Score: 34.64295922566951\n",
      "Episode: 329\tAverage Score: 34.6573742253473\n",
      "Episode: 330\tAverage Score: 34.65139922548085\n",
      "Episode: 331\tAverage Score: 34.65632922537066\n",
      "Episode: 332\tAverage Score: 34.65648922536708\n",
      "Episode: 333\tAverage Score: 34.65354922543279\n",
      "Episode: 334\tAverage Score: 34.64756922556646\n",
      "Episode: 335\tAverage Score: 34.64473922562971\n",
      "Episode: 336\tAverage Score: 34.62065422616806\n",
      "Episode: 337\tAverage Score: 34.640359225727615\n",
      "Episode: 338\tAverage Score: 34.66238422523532\n",
      "Episode: 339\tAverage Score: 34.648579225543884\n",
      "Episode: 340\tAverage Score: 34.64855922554433\n",
      "Episode: 341\tAverage Score: 34.64195422569197\n",
      "Episode: 342\tAverage Score: 34.625149226067585\n",
      "Episode: 343\tAverage Score: 34.607834226454614\n",
      "Episode: 344\tAverage Score: 34.58255422701966\n",
      "Episode: 345\tAverage Score: 34.56876922732778\n",
      "Episode: 346\tAverage Score: 34.531279228165744\n",
      "Episode: 347\tAverage Score: 34.5071442287052\n",
      "Episode: 348\tAverage Score: 34.47981422931608\n",
      "Episode: 349\tAverage Score: 34.45871922978758\n",
      "Episode: 350\tAverage Score: 34.43106423040572\n",
      "Episode: 351\tAverage Score: 34.42457423055078\n",
      "Episode: 352\tAverage Score: 34.40369923101738\n",
      "Episode: 353\tAverage Score: 34.38486423143837\n",
      "Episode: 354\tAverage Score: 34.38616423140932\n",
      "Episode: 355\tAverage Score: 34.36186423195247\n"
     ]
    },
    {
     "name": "stdout",
     "output_type": "stream",
     "text": [
      "Episode: 356\tAverage Score: 34.3462892323006\n",
      "Episode: 357\tAverage Score: 34.32908923268504\n",
      "Episode: 358\tAverage Score: 34.31660423296411\n",
      "Episode: 359\tAverage Score: 34.305269233217466\n",
      "Episode: 360\tAverage Score: 34.297504233391024\n",
      "Episode: 361\tAverage Score: 34.276399233862755\n",
      "Episode: 362\tAverage Score: 34.2658792340979\n",
      "Episode: 363\tAverage Score: 34.24477423456963\n",
      "Episode: 364\tAverage Score: 34.20848423538078\n",
      "Episode: 365\tAverage Score: 34.18909923581407\n",
      "Episode: 366\tAverage Score: 34.141189236884934\n",
      "Episode: 367\tAverage Score: 34.10149423777219\n",
      "Episode: 368\tAverage Score: 34.07254923841916\n",
      "Episode: 369\tAverage Score: 34.047664238975386\n",
      "Episode: 370\tAverage Score: 34.011269239788874\n",
      "Episode: 371\tAverage Score: 33.988929240288215\n",
      "Episode: 372\tAverage Score: 33.95844924096949\n",
      "Episode: 373\tAverage Score: 33.912279242001475\n",
      "Episode: 374\tAverage Score: 33.86810924298875\n",
      "Episode: 375\tAverage Score: 33.838869243642314\n",
      "Episode: 376\tAverage Score: 33.80516924439557\n",
      "Episode: 377\tAverage Score: 33.77376924509742\n",
      "Episode: 378\tAverage Score: 33.729024246097545\n",
      "Episode: 379\tAverage Score: 33.68170924715512\n",
      "Episode: 380\tAverage Score: 33.63726424814855\n",
      "Episode: 381\tAverage Score: 33.60137424895075\n",
      "Episode: 382\tAverage Score: 33.56521424975898\n",
      "Episode: 383\tAverage Score: 33.52058925075644\n",
      "Episode: 384\tAverage Score: 33.4969192512855\n",
      "Episode: 385\tAverage Score: 33.47317425181624\n",
      "Episode: 386\tAverage Score: 33.42420925291069\n",
      "Episode: 387\tAverage Score: 33.40176425341238\n",
      "Episode: 388\tAverage Score: 33.354319254472856\n",
      "Episode: 389\tAverage Score: 33.305164255571555\n",
      "Episode: 390\tAverage Score: 33.240244257022624\n",
      "Episode: 391\tAverage Score: 33.19022425814066\n",
      "Episode: 392\tAverage Score: 33.14612925912626\n",
      "Episode: 393\tAverage Score: 33.09570926025324\n",
      "Episode: 394\tAverage Score: 33.048134261316626\n",
      "Episode: 395\tAverage Score: 33.034449261622505\n",
      "Episode: 396\tAverage Score: 33.013834262083286\n",
      "Episode: 397\tAverage Score: 32.98857926264778\n",
      "Episode: 398\tAverage Score: 32.97285926299915\n",
      "Episode: 399\tAverage Score: 32.93534926383756\n",
      "Episode: 400\tAverage Score: 32.91248926434852\n"
     ]
    }
   ],
   "source": [
    "scores = ddpg()"
   ]
  },
  {
   "cell_type": "markdown",
   "metadata": {},
   "source": [
    "The agent was able to reach a score of 30 at its 210th episode and was able to maintaina  score > 30 till 400th episode.\n",
    "### Plot of Rewards"
   ]
  },
  {
   "cell_type": "code",
   "execution_count": 10,
   "metadata": {
    "ExecuteTime": {
     "end_time": "2021-05-04T22:29:14.369616Z",
     "start_time": "2021-05-04T22:29:14.038207Z"
    }
   },
   "outputs": [
    {
     "data": {
      "image/png": "[encoded data removed]",
      "text/plain": [
       "<Figure size 432x288 with 1 Axes>"
      ]
     },
     "metadata": {
      "needs_background": "light"
     },
     "output_type": "display_data"
    }
   ],
   "source": [
    "fig = plt.figure()\n",
    "ax = fig.add_subplot(111)\n",
    "plt.plot(np.arange(1, len(scores)+1), scores)\n",
    "plt.ylabel('Score')\n",
    "plt.xlabel('Episode #')\n",
    "plt.show()"
   ]
  },
  {
   "cell_type": "markdown",
   "metadata": {},
   "source": [
    "Loading the saved actor-critic model and testing it out "
   ]
  },
  {
   "cell_type": "code",
   "execution_count": 17,
   "metadata": {
    "ExecuteTime": {
     "end_time": "2021-05-05T00:11:16.270030Z",
     "start_time": "2021-05-05T00:11:00.290992Z"
    }
   },
   "outputs": [
    {
     "name": "stderr",
     "output_type": "stream",
     "text": [
      "C:\\tools\\Anaconda3\\envs\\drlnd\\lib\\site-packages\\torch\\nn\\functional.py:1698: UserWarning: nn.functional.tanh is deprecated. Use torch.tanh instead.\n",
      "  warnings.warn(\"nn.functional.tanh is deprecated. Use torch.tanh instead.\")\n"
     ]
    }
   ],
   "source": [
    "agent.actor_local.load_state_dict(torch.load('checkpoint_actor.pth'))\n",
    "agent.critic_local.load_state_dict(torch.load('checkpoint_critic.pth')) \n",
    "        \n",
    "env_info = env.reset(train_mode=False)[brain_name]\n",
    "states = env_info.vector_observations\n",
    "for t in range(200):\n",
    "    actions = agent.act(states, add_noise=False)\n",
    "    env_info = env.step(actions)[brain_name]\n",
    "    states = env_info.vector_observations\n",
    "    rewards = env_info.rewards\n",
    "    dones = env_info.local_done\n",
    "    if np.any(dones):\n",
    "        break"
   ]
  },
  {
   "cell_type": "markdown",
   "metadata": {},
   "source": [
    "When finished, you can close the environment."
   ]
  },
  {
   "cell_type": "code",
   "execution_count": 18,
   "metadata": {
    "ExecuteTime": {
     "end_time": "2021-05-05T00:23:14.101390Z",
     "start_time": "2021-05-05T00:23:14.089426Z"
    }
   },
   "outputs": [],
   "source": [
    "env.close()"
   ]
  },
  {
   "cell_type": "code",
   "execution_count": null,
   "metadata": {},
   "outputs": [],
   "source": []
  }
 ],
 "metadata": {
  "kernelspec": {
   "display_name": "drlnd",
   "language": "python",
   "name": "drlnd"
  },
  "language_info": {
   "codemirror_mode": {
    "name": "ipython",
    "version": 3
   },
   "file_extension": ".py",
   "mimetype": "text/x-python",
   "name": "python",
   "nbconvert_exporter": "python",
   "pygments_lexer": "ipython3",
   "version": "3.6.13"
  }
 },
 "nbformat": 4,
 "nbformat_minor": 2
}
